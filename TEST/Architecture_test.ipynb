{
  "cells": [
    {
      "cell_type": "markdown",
      "id": "fdc4c696-beb2-4ca8-8437-c295ff653b82",
      "metadata": {
        "id": "fdc4c696-beb2-4ca8-8437-c295ff653b82"
      },
      "source": [
        "# Test 6.0"
      ]
    },
    {
      "cell_type": "markdown",
      "id": "c56ec603-c689-433e-9aa2-5e38c935e1d9",
      "metadata": {
        "id": "c56ec603-c689-433e-9aa2-5e38c935e1d9"
      },
      "source": [
        "## Theory Question\n",
        "\n",
        "Que 1-> How does ResNet solve the problem of network degradation?\n",
        "\n",
        "Que 2-> What does \"freezing the layer\" mean in the context of transfer learning?"
      ]
    },
    {
      "cell_type": "markdown",
      "source": [
        "Ans 1-> ResNet solves the problem using skip connections. These skip connections allow the network to skip certain layers and directly go to deep layers. It also solves the problem of vanishing gradient.\n",
        "\n",
        "Ans 2-> Freezing a layer refers to disabling the training of specific layers in a pre-trained neural network. When you freeze a layer, its weights and biases remain fixed during training, preventing any further updates."
      ],
      "metadata": {
        "id": "tyeW3qSNe8Cm"
      },
      "id": "tyeW3qSNe8Cm"
    },
    {
      "cell_type": "markdown",
      "id": "c126d7f2-45e1-4d3d-bc75-09ed2499b9be",
      "metadata": {
        "id": "c126d7f2-45e1-4d3d-bc75-09ed2499b9be"
      },
      "source": [
        "## Practicle Question\n",
        "\n",
        "- Load the chess dataset\n",
        "    "
      ]
    },
    {
      "cell_type": "raw",
      "id": "21d45456-2e77-4090-95f6-e4b7f703dcc4",
      "metadata": {
        "id": "21d45456-2e77-4090-95f6-e4b7f703dcc4"
      },
      "source": [
        "# Code for loading the dataset and plotting, with folder name\n",
        "import os\n",
        "from PIL import Image\n",
        "import numpy as np\n",
        "import matplotlib.pyplot as plt\n",
        "\n",
        "# Set up the directory path where your dataset is located\n",
        "dataset_directory = 'path of your dataset'\n",
        "\n",
        "# Function to load the dataset\n",
        "def load_dataset(directory):\n",
        "    images = []\n",
        "    labels = []\n",
        "    class_names = sorted(os.listdir(directory))  # Assumes each subdirectory is a class\n",
        "\n",
        "    for i, class_name in enumerate(class_names):\n",
        "        class_directory = os.path.join(directory, class_name)\n",
        "        for filename in os.listdir(class_directory):\n",
        "            if filename.endswith('.jpg') or filename.endswith('.png'):\n",
        "                image_path = os.path.join(class_directory, filename)\n",
        "                image = Image.open(image_path)\n",
        "                image = image.resize((150, 150))  # Resize if necessary\n",
        "                image = np.array(image) / 255.0  # Normalize pixel values to [0, 1]\n",
        "                images.append(image)\n",
        "                labels.append(i)  # Store index of the class\n",
        "\n",
        "    images = np.array(images)\n",
        "    labels = np.array(labels)\n",
        "\n",
        "    return images, labels, class_names\n",
        "\n",
        "# Usage example\n",
        "images, labels, class_names = load_dataset(dataset_directory)\n",
        "\n",
        "# Print shape of loaded data for verification\n",
        "print(\"Loaded images shape:\", images.shape)\n",
        "print(\"Loaded labels shape: /n Images with Folder name\", labels.shape, \"/n Images with Folder name\")\n",
        "\n",
        "# Plotting example: Plot one example image from each class\n",
        "num_classes = len(class_names)\n",
        "fig, axes = plt.subplots(1, num_classes, figsize=(15, 3))\n",
        "\n",
        "for i, class_name in enumerate(class_names):\n",
        "    class_indices = np.where(labels == i)[0]\n",
        "    example_image = images[class_indices[0]]\n",
        "    axes[i].imshow(example_image)\n",
        "    axes[i].set_title(class_name)\n",
        "    axes[i].axis('off')\n",
        "\n",
        "plt.tight_layout()\n",
        "plt.show()\n"
      ]
    },
    {
      "cell_type": "code",
      "source": [
        "from google.colab import drive\n",
        "drive.mount('/content/drive')\n"
      ],
      "metadata": {
        "colab": {
          "base_uri": "https://localhost:8080/"
        },
        "id": "MJpv2pQ8X092",
        "outputId": "57d64397-f790-41a4-edc3-fa049168363b"
      },
      "id": "MJpv2pQ8X092",
      "execution_count": 1,
      "outputs": [
        {
          "output_type": "stream",
          "name": "stdout",
          "text": [
            "Mounted at /content/drive\n"
          ]
        }
      ]
    },
    {
      "cell_type": "markdown",
      "id": "5c3cdef8-7d39-45c6-bc53-9fa8568fc665",
      "metadata": {
        "id": "5c3cdef8-7d39-45c6-bc53-9fa8568fc665"
      },
      "source": [
        "# Step by Step instruction"
      ]
    },
    {
      "cell_type": "markdown",
      "id": "cf0fb13a-e6b5-4417-a5f6-f7a5b528e458",
      "metadata": {
        "id": "cf0fb13a-e6b5-4417-a5f6-f7a5b528e458"
      },
      "source": [
        "#### Step 1: Load and Prepare the Dataset using ImageDataGenerator\n",
        "\n",
        "    Task:\n",
        "        - Load the Chessman Image Dataset from the specified directory using ImageDataGenerator. Specify the path to the dataset directory.\n",
        "        - Create instances of ImageDataGenerator for training and validation, including data augmentation techniques.\n",
        "\n",
        "        -  Generate batches of augmented image data for training and validation\n",
        "            train_generator = train_datagen.flow_from_directory(\n",
        "                train_data_dir,\n",
        "                target_size=(224, 224),  # Adjust according to your model's input shape\n",
        "                batch_size=32,\n",
        "                class_mode='categorical',\n",
        "                subset='Traning'\n",
        "                )\n",
        "\n",
        "            validation_generator = valid_datagen.flow_from_directory(\n",
        "                valid_data_dir,\n",
        "                target_size=(224, 224),  # Adjust according to your model's input shape\n",
        "                batch_size=32,\n",
        "                class_mode='categorical',\n",
        "                subset='Validation'\n",
        "                )\n",
        "        \n",
        "#### Step 2: Define the Alexnet Architecture\n",
        "\n",
        "    Task:\n",
        "        - Construct a basic Alexnet architecture for image classification.Start with an input layer suitable for your dataset dimensions.(use 32  kernel filters only on each layer)\n",
        "        - Stack convolutional layers (Conv2D) followed by pooling layers (MaxPooling2D).\n",
        "        - Add fully connected layers (Dense) at the end with appropriate activation functions.\n",
        "\n",
        "#### Step 3: Compile the Model\n",
        "\n",
        "    Task:\n",
        "        - Compile the ALexnet model for training.\n",
        "        - Choose an appropriate optimizer (e.g., Adam).\n",
        "        - Specify a loss function (e.g., categorical crossentropy) suitable for multi-class classification.\n",
        "        - Add metrics to monitor during training (e.g., accuracy).\n",
        "\n",
        "#### Step 4: Train the Model\n",
        "\n",
        "    Task:\n",
        "        - Train the Alexnet model using the training data prepared with ImageDataGenerator.\n",
        "        - Fit the model using model.fit method, passing the training generator.\n",
        "        - Specify number of epochs and batch size based on computational resources and dataset size.\n",
        "\n",
        "#### Step 5: Evaluate the Model\n",
        "\n",
        "    Task:\n",
        "        - Evaluate the trained model on the validation data.\n",
        "        - Use model.evaluate to calculate the model's performance metrics on unseen data.\n",
        "        - Analyze metrics such as accuracy to assess model performance.\n",
        "\n",
        "#### Step 6: Plot Training and Testing Loss\n",
        "#### Step 7: Save the model in .h5 extension\n",
        "#### Step 8: Load the model\n",
        "#### Step 9: Test the model\n",
        "    "
      ]
    },
    {
      "cell_type": "code",
      "source": [
        "import tensorflow as tf\n",
        "from tensorflow.keras.preprocessing.image import ImageDataGenerator\n",
        "\n",
        "data_dir = '/content/drive/MyDrive/Chess Dataset'\n",
        "\n",
        "train_datagen = ImageDataGenerator(\n",
        "    rescale=1./255,\n",
        "    rotation_range=40,\n",
        "    width_shift_range=0.2,\n",
        "    height_shift_range=0.2,\n",
        "    shear_range=0.2,\n",
        "    zoom_range=0.2,\n",
        "    horizontal_flip=True,\n",
        "    fill_mode='nearest',\n",
        "    validation_split=0.2\n",
        ")\n",
        "\n",
        "valid_datagen = ImageDataGenerator(rescale=1./255, validation_split=0.2)\n",
        "\n",
        "train_generator = train_datagen.flow_from_directory(\n",
        "    data_dir,\n",
        "    target_size=(224, 224),\n",
        "    batch_size=32,\n",
        "    class_mode='categorical',\n",
        "    subset='training'\n",
        ")\n",
        "\n",
        "validation_generator = valid_datagen.flow_from_directory(\n",
        "    data_dir,\n",
        "    target_size=(224, 224),\n",
        "    batch_size=32,\n",
        "    class_mode='categorical',\n",
        "    subset='validation'\n",
        ")"
      ],
      "metadata": {
        "colab": {
          "base_uri": "https://localhost:8080/"
        },
        "id": "MQtANxJ4YTrN",
        "outputId": "dc0b5f8d-31b8-4ac9-bb13-b670d6219a1d"
      },
      "id": "MQtANxJ4YTrN",
      "execution_count": 2,
      "outputs": [
        {
          "output_type": "stream",
          "name": "stdout",
          "text": [
            "Found 442 images belonging to 6 classes.\n",
            "Found 109 images belonging to 6 classes.\n"
          ]
        }
      ]
    },
    {
      "cell_type": "code",
      "source": [
        "from tensorflow.keras.models import Sequential\n",
        "from tensorflow.keras.layers import Conv2D, MaxPooling2D, Flatten, Dense, Dropout\n",
        "\n",
        "model = Sequential()\n",
        "\n",
        "# 1st Convolutional Layer\n",
        "model.add(Conv2D(filters=32, input_shape=(224, 224, 3), kernel_size=(11, 11), strides=(4, 4), padding='same', activation='relu'))\n",
        "model.add(MaxPooling2D(pool_size=(3, 3), strides=(2, 2), padding='same'))\n",
        "\n",
        "# 2nd Convolutional Layer\n",
        "model.add(Conv2D(filters=32, kernel_size=(5, 5), strides=(1, 1), padding='same', activation='relu'))\n",
        "model.add(MaxPooling2D(pool_size=(3, 3), strides=(2, 2), padding='same'))\n",
        "\n",
        "# 3rd, 4th, and 5th Convolutional Layers\n",
        "model.add(Conv2D(filters=32, kernel_size=(3, 3), strides=(1, 1), padding='same', activation='relu'))\n",
        "model.add(Conv2D(filters=32, kernel_size=(3, 3), strides=(1, 1), padding='same', activation='relu'))\n",
        "model.add(Conv2D(filters=32, kernel_size=(3, 3), strides=(1, 1), padding='same', activation='relu'))\n",
        "model.add(MaxPooling2D(pool_size=(3, 3), strides=(2, 2), padding='same'))\n",
        "\n",
        "# Flatten the layers\n",
        "model.add(Flatten())\n",
        "\n",
        "# Fully Connected Layers\n",
        "model.add(Dense(4096, activation='relu'))\n",
        "model.add(Dropout(0.5))\n",
        "model.add(Dense(4096, activation='relu'))\n",
        "model.add(Dropout(0.5))\n",
        "model.add(Dense(train_generator.num_classes, activation='softmax'))\n"
      ],
      "metadata": {
        "id": "Ips0yhj_ZGzU"
      },
      "id": "Ips0yhj_ZGzU",
      "execution_count": 3,
      "outputs": []
    },
    {
      "cell_type": "code",
      "source": [
        "model.compile(optimizer='adam',\n",
        "              loss='categorical_crossentropy',\n",
        "              metrics=['accuracy'])"
      ],
      "metadata": {
        "id": "IlydMlvdZGv9"
      },
      "id": "IlydMlvdZGv9",
      "execution_count": 4,
      "outputs": []
    },
    {
      "cell_type": "code",
      "source": [
        "# Fit the model\n",
        "history = model.fit(\n",
        "    train_generator,\n",
        "    steps_per_epoch=train_generator.samples // train_generator.batch_size,\n",
        "    validation_data=validation_generator,\n",
        "    validation_steps=validation_generator.samples // validation_generator.batch_size,\n",
        "    epochs=10\n",
        ")"
      ],
      "metadata": {
        "colab": {
          "base_uri": "https://localhost:8080/"
        },
        "id": "Q-ntZ2hDZGtH",
        "outputId": "6f031cb6-fad8-4d66-89a0-35f5c51e915d"
      },
      "id": "Q-ntZ2hDZGtH",
      "execution_count": 5,
      "outputs": [
        {
          "output_type": "stream",
          "name": "stdout",
          "text": [
            "Epoch 1/10\n",
            "13/13 [==============================] - 129s 10s/step - loss: 1.8263 - accuracy: 0.1415 - val_loss: 1.7865 - val_accuracy: 0.2188\n",
            "Epoch 2/10\n",
            "13/13 [==============================] - 29s 2s/step - loss: 1.7888 - accuracy: 0.1976 - val_loss: 1.7712 - val_accuracy: 0.2083\n",
            "Epoch 3/10\n",
            "13/13 [==============================] - 28s 2s/step - loss: 1.7798 - accuracy: 0.1878 - val_loss: 1.7796 - val_accuracy: 0.1979\n",
            "Epoch 4/10\n",
            "13/13 [==============================] - 27s 2s/step - loss: 1.7832 - accuracy: 0.2049 - val_loss: 1.7800 - val_accuracy: 0.1979\n",
            "Epoch 5/10\n",
            "13/13 [==============================] - 27s 2s/step - loss: 1.7867 - accuracy: 0.1878 - val_loss: 1.7815 - val_accuracy: 0.1875\n",
            "Epoch 6/10\n",
            "13/13 [==============================] - 27s 2s/step - loss: 1.7833 - accuracy: 0.1829 - val_loss: 1.7799 - val_accuracy: 0.1667\n",
            "Epoch 7/10\n",
            "13/13 [==============================] - 28s 2s/step - loss: 1.7843 - accuracy: 0.1902 - val_loss: 1.7836 - val_accuracy: 0.1771\n",
            "Epoch 8/10\n",
            "13/13 [==============================] - 28s 2s/step - loss: 1.7877 - accuracy: 0.1707 - val_loss: 1.7864 - val_accuracy: 0.1979\n",
            "Epoch 9/10\n",
            "13/13 [==============================] - 28s 2s/step - loss: 1.7861 - accuracy: 0.1780 - val_loss: 1.7769 - val_accuracy: 0.1979\n",
            "Epoch 10/10\n",
            "13/13 [==============================] - 37s 3s/step - loss: 1.7860 - accuracy: 0.1585 - val_loss: 1.7815 - val_accuracy: 0.1875\n"
          ]
        }
      ]
    },
    {
      "cell_type": "code",
      "source": [
        "val_loss, val_acc = model.evaluate(validation_generator, steps=validation_generator.samples // validation_generator.batch_size)\n",
        "print(f\"Validation Accuracy: {val_acc}\")"
      ],
      "metadata": {
        "colab": {
          "base_uri": "https://localhost:8080/"
        },
        "id": "1BD35UiwZGqQ",
        "outputId": "52e8c79b-b673-48c1-90e6-88bb7b03ce20"
      },
      "id": "1BD35UiwZGqQ",
      "execution_count": 6,
      "outputs": [
        {
          "output_type": "stream",
          "name": "stdout",
          "text": [
            "3/3 [==============================] - 6s 1s/step - loss: 1.7721 - accuracy: 0.1875\n",
            "Validation Accuracy: 0.1875\n"
          ]
        }
      ]
    },
    {
      "cell_type": "code",
      "source": [
        "import matplotlib.pyplot as plt\n",
        "\n",
        "plt.plot(history.history['accuracy'])\n",
        "plt.plot(history.history['val_accuracy'])\n",
        "plt.title('Model accuracy')\n",
        "plt.ylabel('Accuracy')\n",
        "plt.xlabel('Epoch')\n",
        "plt.legend(['Train', 'Validation'], loc='upper left')\n",
        "plt.show()\n",
        "\n",
        "plt.plot(history.history['loss'])\n",
        "plt.plot(history.history['val_loss'])\n",
        "plt.title('Model loss')\n",
        "plt.ylabel('Loss')\n",
        "plt.xlabel('Epoch')\n",
        "plt.legend(['Train', 'Validation'], loc='upper left')\n",
        "plt.show()\n"
      ],
      "metadata": {
        "colab": {
          "base_uri": "https://localhost:8080/",
          "height": 927
        },
        "id": "vnCbFLzuZVI9",
        "outputId": "c37a04a1-794f-4cce-c30d-e836b213b581"
      },
      "id": "vnCbFLzuZVI9",
      "execution_count": 7,
      "outputs": [
        {
          "output_type": "display_data",
          "data": {
            "text/plain": [
              "<Figure size 640x480 with 1 Axes>"
            ],
            "image/png": "[encoded data removed]"
          },
          "metadata": {}
        },
        {
          "output_type": "display_data",
          "data": {
            "text/plain": [
              "<Figure size 640x480 with 1 Axes>"
            ],
            "image/png": "[encoded data removed]"
          },
          "metadata": {}
        }
      ]
    },
    {
      "cell_type": "code",
      "source": [
        "model.save('ayus_chess.h5')"
      ],
      "metadata": {
        "colab": {
          "base_uri": "https://localhost:8080/"
        },
        "id": "-tj8RXp9ZVFj",
        "outputId": "11c7402a-3ccc-4fd5-f3b0-c11d506e6bbe"
      },
      "id": "-tj8RXp9ZVFj",
      "execution_count": 8,
      "outputs": [
        {
          "output_type": "stream",
          "name": "stderr",
          "text": [
            "/usr/local/lib/python3.10/dist-packages/keras/src/engine/training.py:3103: UserWarning: You are saving your model as an HDF5 file via `model.save()`. This file format is considered legacy. We recommend using instead the native Keras format, e.g. `model.save('my_model.keras')`.\n",
            "  saving_api.save_model(\n"
          ]
        }
      ]
    },
    {
      "cell_type": "code",
      "source": [
        "from tensorflow.keras.models import load_model\n",
        "\n",
        "loaded_model = load_model('ayus_chess.h5')\n",
        "test_loss, test_acc = loaded_model.evaluate(validation_generator, steps=validation_generator.samples // validation_generator.batch_size)\n",
        "print(f\"Test Accuracy: {test_acc}\")"
      ],
      "metadata": {
        "colab": {
          "base_uri": "https://localhost:8080/"
        },
        "id": "pX0oxg6NZVDL",
        "outputId": "a01a8194-9970-434e-bcbe-868351251511"
      },
      "id": "pX0oxg6NZVDL",
      "execution_count": 10,
      "outputs": [
        {
          "output_type": "stream",
          "name": "stdout",
          "text": [
            "3/3 [==============================] - 4s 957ms/step - loss: 1.7813 - accuracy: 0.1771\n",
            "Test Accuracy: 0.1770833283662796\n"
          ]
        }
      ]
    },
    {
      "cell_type": "code",
      "execution_count": null,
      "id": "cc7e1311-fb73-4606-a5d9-2a015beb6aa9",
      "metadata": {
        "id": "cc7e1311-fb73-4606-a5d9-2a015beb6aa9"
      },
      "outputs": [],
      "source": [
        "#AI/ML Trainer - Saurav\n",
        "#Date 14 June 2024\n",
        "#Time - 12:20"
      ]
    },
    {
      "cell_type": "code",
      "execution_count": null,
      "id": "731de9be-5f9b-4f38-b976-59a22f5d11c5",
      "metadata": {
        "id": "731de9be-5f9b-4f38-b976-59a22f5d11c5"
      },
      "outputs": [],
      "source": []
    }
  ],
  "metadata": {
    "kernelspec": {
      "display_name": "Python 3",
      "name": "python3"
    },
    "language_info": {
      "codemirror_mode": {
        "name": "ipython",
        "version": 3
      },
      "file_extension": ".py",
      "mimetype": "text/x-python",
      "name": "python",
      "nbconvert_exporter": "python",
      "pygments_lexer": "ipython3",
      "version": "3.10.12"
    },
    "colab": {
      "provenance": []
    }
  },
  "nbformat": 4,
  "nbformat_minor": 5
}