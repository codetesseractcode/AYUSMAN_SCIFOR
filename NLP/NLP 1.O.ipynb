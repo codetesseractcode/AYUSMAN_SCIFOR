{
 "cells": [
  {
   "cell_type": "markdown",
   "metadata": {},
   "source": [
    "String of arrays"
   ]
  },
  {
   "cell_type": "code",
   "execution_count": 2,
   "metadata": {},
   "outputs": [
    {
     "name": "stdout",
     "output_type": "stream",
     "text": [
      "s\n"
     ]
    }
   ],
   "source": [
    "s = 'Ayusman'\n",
    "print(s[3])"
   ]
  },
  {
   "cell_type": "markdown",
   "metadata": {},
   "source": [
    "Slicing"
   ]
  },
  {
   "cell_type": "code",
   "execution_count": 3,
   "metadata": {},
   "outputs": [
    {
     "name": "stdout",
     "output_type": "stream",
     "text": [
      "usman Pr\n"
     ]
    }
   ],
   "source": [
    "a =\"Ayusman Pradhan\"\n",
    "\n",
    "# get a rage of values\n",
    "print(a[2:10])"
   ]
  },
  {
   "cell_type": "code",
   "execution_count": 4,
   "metadata": {},
   "outputs": [
    {
     "name": "stdout",
     "output_type": "stream",
     "text": [
      "Ayusman P\n"
     ]
    }
   ],
   "source": [
    "print(a[-15:-6])"
   ]
  },
  {
   "cell_type": "code",
   "execution_count": 5,
   "metadata": {},
   "outputs": [
    {
     "name": "stdout",
     "output_type": "stream",
     "text": [
      "umnPahn\n"
     ]
    }
   ],
   "source": [
    "print(a[2::2])"
   ]
  },
  {
   "cell_type": "markdown",
   "metadata": {},
   "source": [
    "String Methods"
   ]
  },
  {
   "cell_type": "code",
   "execution_count": 6,
   "metadata": {},
   "outputs": [
    {
     "name": "stdout",
     "output_type": "stream",
     "text": [
      "ayusman pradhan\n"
     ]
    }
   ],
   "source": [
    "# printing lower case\n",
    "print(a.lower())"
   ]
  },
  {
   "cell_type": "code",
   "execution_count": 7,
   "metadata": {},
   "outputs": [
    {
     "name": "stdout",
     "output_type": "stream",
     "text": [
      "AYUSMAN PRADHAN\n"
     ]
    }
   ],
   "source": [
    "# printing uppercase\n",
    "print(a.upper())"
   ]
  },
  {
   "cell_type": "code",
   "execution_count": 8,
   "metadata": {},
   "outputs": [
    {
     "name": "stdout",
     "output_type": "stream",
     "text": [
      "Ayusmon Prodhon\n"
     ]
    }
   ],
   "source": [
    "# Replacing the letter\n",
    "print(a.replace('a', 'o'))"
   ]
  },
  {
   "cell_type": "code",
   "execution_count": 9,
   "metadata": {},
   "outputs": [
    {
     "name": "stdout",
     "output_type": "stream",
     "text": [
      "['Ayusm', 'n Pr', 'dh', 'n']\n",
      "['Ayusman', 'Pradhan']\n"
     ]
    }
   ],
   "source": [
    "# spliting\n",
    "print(a.split('a'))\n",
    "print(a.split(\" \"))"
   ]
  },
  {
   "cell_type": "markdown",
   "metadata": {},
   "source": [
    "String Concatination"
   ]
  },
  {
   "cell_type": "code",
   "execution_count": 10,
   "metadata": {},
   "outputs": [
    {
     "name": "stdout",
     "output_type": "stream",
     "text": [
      "Ayusman Pradhan\n"
     ]
    }
   ],
   "source": [
    "# Combing two string\n",
    "a = 'Ayusman'\n",
    "b = 'Pradhan'\n",
    "print(a+\" \"+b)"
   ]
  },
  {
   "cell_type": "markdown",
   "metadata": {},
   "source": [
    "Opration on text files"
   ]
  },
  {
   "cell_type": "code",
   "execution_count": 11,
   "metadata": {},
   "outputs": [],
   "source": [
    "file = open(\"data.txt\", \"w+\")"
   ]
  },
  {
   "cell_type": "code",
   "execution_count": 12,
   "metadata": {},
   "outputs": [],
   "source": [
    "for i in range(10):\n",
    "    file.write(\"Ayusman Pradhan is %d\\r\\n\" % (i+1))"
   ]
  },
  {
   "cell_type": "code",
   "execution_count": 13,
   "metadata": {},
   "outputs": [],
   "source": [
    "file.close()"
   ]
  },
  {
   "cell_type": "code",
   "execution_count": 14,
   "metadata": {},
   "outputs": [],
   "source": [
    "# appending data two file\n",
    "file = open('data.txt', 'a+')"
   ]
  },
  {
   "cell_type": "code",
   "execution_count": 15,
   "metadata": {},
   "outputs": [],
   "source": [
    "for i in range(3):\n",
    "    file.write(\"Ayusman is average %d\\r\\n\" % (i + 1))"
   ]
  },
  {
   "cell_type": "code",
   "execution_count": 16,
   "metadata": {},
   "outputs": [],
   "source": [
    "file.close()"
   ]
  },
  {
   "cell_type": "markdown",
   "metadata": {},
   "source": [
    "Reading the files"
   ]
  },
  {
   "cell_type": "code",
   "execution_count": 17,
   "metadata": {},
   "outputs": [],
   "source": [
    "# reading the file\n",
    "file = open(\"data.txt\", \"r\")"
   ]
  },
  {
   "cell_type": "code",
   "execution_count": 18,
   "metadata": {},
   "outputs": [],
   "source": [
    "if file.mode == 'r':\n",
    "    content = file.read()\n"
   ]
  },
  {
   "cell_type": "code",
   "execution_count": 19,
   "metadata": {},
   "outputs": [
    {
     "name": "stdout",
     "output_type": "stream",
     "text": [
      "Ayusman Pradhan is 1\n",
      "\n",
      "Ayusman Pradhan is 2\n",
      "\n",
      "Ayusman Pradhan is 3\n",
      "\n",
      "Ayusman Pradhan is 4\n",
      "\n",
      "Ayusman Pradhan is 5\n",
      "\n",
      "Ayusman Pradhan is 6\n",
      "\n",
      "Ayusman Pradhan is 7\n",
      "\n",
      "Ayusman Pradhan is 8\n",
      "\n",
      "Ayusman Pradhan is 9\n",
      "\n",
      "Ayusman Pradhan is 10\n",
      "\n",
      "Ayusman is average 1\n",
      "\n",
      "Ayusman is average 2\n",
      "\n",
      "Ayusman is average 3\n",
      "\n",
      "\n"
     ]
    }
   ],
   "source": [
    "print(content)"
   ]
  },
  {
   "cell_type": "markdown",
   "metadata": {},
   "source": [
    "### Text Preprocessing"
   ]
  },
  {
   "cell_type": "code",
   "execution_count": 20,
   "metadata": {},
   "outputs": [],
   "source": [
    "import nltk\n",
    "import string\n",
    "import re\n"
   ]
  },
  {
   "cell_type": "code",
   "execution_count": 21,
   "metadata": {},
   "outputs": [
    {
     "name": "stdout",
     "output_type": "stream",
     "text": [
      "ayusman speaks oriya and japaneeese\n"
     ]
    }
   ],
   "source": [
    "def to_lower(text):\n",
    "    return text.lower()\n",
    "\n",
    "input = \"AyUsman sPeaks OriYa and JaPaneEESe\"\n",
    "a = to_lower(input)\n",
    "\n",
    "print(a)"
   ]
  },
  {
   "cell_type": "code",
   "execution_count": 22,
   "metadata": {},
   "outputs": [
    {
     "name": "stdout",
     "output_type": "stream",
     "text": [
      "AYUSMAN SPEAKS ORIYA AND JAPANEEESE\n"
     ]
    }
   ],
   "source": [
    "def to_upper(text):\n",
    "    return text.upper()\n",
    "\n",
    "print(to_upper(input))"
   ]
  },
  {
   "cell_type": "code",
   "execution_count": 23,
   "metadata": {},
   "outputs": [],
   "source": [
    "def remove_num(text):\n",
    "    result = re.sub(r'\\d+',\"\",text)\n",
    "    return result"
   ]
  },
  {
   "cell_type": "code",
   "execution_count": 25,
   "metadata": {},
   "outputs": [
    {
     "data": {
      "text/plain": [
       "'AYUSMAN WANTS  LOVE'"
      ]
     },
     "execution_count": 25,
     "metadata": {},
     "output_type": "execute_result"
    }
   ],
   "source": [
    "input = \"AYUSMAN WANTS 1 LOVE\"\n",
    "remove_num(input)"
   ]
  },
  {
   "cell_type": "code",
   "execution_count": 39,
   "metadata": {},
   "outputs": [],
   "source": []
  },
  {
   "cell_type": "code",
   "execution_count": 28,
   "metadata": {},
   "outputs": [],
   "source": [
    "import inflect\n",
    "\n",
    "p = inflect.engine\n",
    "\n",
    "def num_to_word(text):\n",
    "\n",
    "    #spliting the word\n",
    "    split_text = text.split()\n",
    "\n",
    "    # intializing the empty list\n",
    "    str_list = []\n",
    "\n",
    "    # adding words to the list\n",
    "    for word in split_text:\n",
    "        if word.isdigit():\n",
    "            str_list.append(p.number_to_words(word))\n",
    "        else:\n",
    "            str_list.append(word)\n",
    "\n",
    "    result = ' '.join(str_list)\n",
    "\n",
    "    return result"
   ]
  },
  {
   "cell_type": "code",
   "execution_count": 29,
   "metadata": {},
   "outputs": [
    {
     "ename": "TypeError",
     "evalue": "engine.number_to_words() missing 1 required positional argument: 'num'",
     "output_type": "error",
     "traceback": [
      "\u001b[1;31m---------------------------------------------------------------------------\u001b[0m",
      "\u001b[1;31mTypeError\u001b[0m                                 Traceback (most recent call last)",
      "Cell \u001b[1;32mIn[29], line 1\u001b[0m\n\u001b[1;32m----> 1\u001b[0m num_to_word(\u001b[38;5;28minput\u001b[39m)\n",
      "Cell \u001b[1;32mIn[28], line 16\u001b[0m, in \u001b[0;36mnum_to_word\u001b[1;34m(text)\u001b[0m\n\u001b[0;32m     14\u001b[0m \u001b[38;5;28;01mfor\u001b[39;00m word \u001b[38;5;129;01min\u001b[39;00m split_text:\n\u001b[0;32m     15\u001b[0m     \u001b[38;5;28;01mif\u001b[39;00m word\u001b[38;5;241m.\u001b[39misdigit():\n\u001b[1;32m---> 16\u001b[0m         str_list\u001b[38;5;241m.\u001b[39mappend(p\u001b[38;5;241m.\u001b[39mnumber_to_words(word))\n\u001b[0;32m     17\u001b[0m     \u001b[38;5;28;01melse\u001b[39;00m:\n\u001b[0;32m     18\u001b[0m         str_list\u001b[38;5;241m.\u001b[39mappend(word)\n",
      "\u001b[1;31mTypeError\u001b[0m: engine.number_to_words() missing 1 required positional argument: 'num'"
     ]
    }
   ],
   "source": [
    "num_to_word(input)"
   ]
  },
  {
   "cell_type": "code",
   "execution_count": null,
   "metadata": {},
   "outputs": [],
   "source": []
  }
 ],
 "metadata": {
  "kernelspec": {
   "display_name": "Python 3 (ipykernel)",
   "language": "python",
   "name": "python3"
  },
  "language_info": {
   "codemirror_mode": {
    "name": "ipython",
    "version": 3
   },
   "file_extension": ".py",
   "mimetype": "text/x-python",
   "name": "python",
   "nbconvert_exporter": "python",
   "pygments_lexer": "ipython3",
   "version": "3.11.5"
  }
 },
 "nbformat": 4,
 "nbformat_minor": 2
}
